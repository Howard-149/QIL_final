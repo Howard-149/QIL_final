{
 "cells": [
  {
   "cell_type": "code",
   "execution_count": 1,
   "metadata": {},
   "outputs": [],
   "source": [
    "filename = \"./VQE/new_environment_2.yml\"\n",
    "new_lines = []\n",
    "\n",
    "with open(filename, \"r\") as file:\n",
    "    for line in file:\n",
    "        if \"==\" in line:\n",
    "            new_lines.append(line)\n",
    "        elif \"=\" in line:\n",
    "            parts = line.split(\"=\")\n",
    "            if len(parts) ==2:\n",
    "                new_line = parts[0] + \"=\" + parts[1]\n",
    "            else:\n",
    "                new_line = parts[0] + \"=\" + parts[1] + \"\\n\"\n",
    "            new_lines.append(new_line)\n",
    "        else:\n",
    "            new_lines.append(line)\n",
    "\n",
    "with open(filename, \"a\") as file:\n",
    "    file.writelines(new_lines)"
   ]
  }
 ],
 "metadata": {
  "kernelspec": {
   "display_name": "Python 3",
   "language": "python",
   "name": "python3"
  },
  "language_info": {
   "codemirror_mode": {
    "name": "ipython",
    "version": 3
   },
   "file_extension": ".py",
   "mimetype": "text/x-python",
   "name": "python",
   "nbconvert_exporter": "python",
   "pygments_lexer": "ipython3",
   "version": "3.7.5"
  }
 },
 "nbformat": 4,
 "nbformat_minor": 2
}
